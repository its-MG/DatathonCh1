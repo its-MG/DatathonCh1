{
 "cells": [
  {
   "cell_type": "markdown",
   "metadata": {},
   "source": [
    "## Creating the data Frame "
   ]
  },
  {
   "cell_type": "code",
   "execution_count": 12,
   "metadata": {},
   "outputs": [
    {
     "name": "stdout",
     "output_type": "stream",
     "text": [
      "     Label                                            Content\n",
      "0      HAM  From exmh-workers-admin@redhat.com  Thu Aug 22...\n",
      "1      HAM  From Steve_Burt@cursor-system.com  Thu Aug 22 ...\n",
      "2      HAM  From timc@2ubh.com  Thu Aug 22 13:52:59 2002\\n...\n",
      "3      HAM  From irregulars-admin@tb.tf  Thu Aug 22 14:23:...\n",
      "4      HAM  From exmh-users-admin@redhat.com  Thu Aug 22 1...\n",
      "...    ...                                                ...\n",
      "4193  SPAM  From tba@insiq.us  Wed Dec  4 11:46:34 2002\\nR...\n",
      "4194  SPAM  Return-Path: <raye@yahoo.lv>\\nReceived: from u...\n",
      "4195  SPAM  From cweqx@dialix.oz.au  Tue Aug  6 11:03:54 2...\n",
      "4196  SPAM  From ilug-admin@linux.ie  Wed Dec  4 11:52:36 ...\n",
      "4197  SPAM  mv 00001.317e78fa8ee2f54cd4890fdc09ba8176 0000...\n",
      "\n",
      "[4198 rows x 2 columns]\n"
     ]
    }
   ],
   "source": [
    "import os\n",
    "import pandas as pd\n",
    "\n",
    "# Path to the dataset folder\n",
    "dataset_folder = 'dataset'\n",
    "\n",
    "# Initialize an empty list to store the data\n",
    "data = []\n",
    "\n",
    "# Iterate through each subdirectory (spam, hard_ham, easy_ham)\n",
    "for folder_name in os.listdir(dataset_folder):\n",
    "    folder_path = os.path.join(dataset_folder, folder_name)\n",
    "    \n",
    "    # Determine the label based on the folder name\n",
    "    if folder_name == 'spam':\n",
    "        label = 'SPAM'\n",
    "    else:\n",
    "        label = 'HAM'\n",
    "    \n",
    "    # Iterate through each file in the subdirectory\n",
    "    for filename in os.listdir(folder_path):\n",
    "        file_path = os.path.join(folder_path, filename)\n",
    "        \n",
    "        # Read the content of the file\n",
    "        with open(file_path, 'r', encoding='latin-1') as file:\n",
    "            content = file.read()\n",
    "        \n",
    "        # Append the label and content to the data list\n",
    "        data.append({'Label': label, 'Content': content})\n",
    "\n",
    "# Create a DataFrame from the collected data\n",
    "df = pd.DataFrame(data)\n",
    "\n",
    "# Display the rows\n",
    "print(df)\n"
   ]
  },
  {
   "cell_type": "markdown",
   "metadata": {},
   "source": [
    "## Data Processing"
   ]
  }
 ],
 "metadata": {
  "kernelspec": {
   "display_name": "Python 3",
   "language": "python",
   "name": "python3"
  },
  "language_info": {
   "codemirror_mode": {
    "name": "ipython",
    "version": 3
   },
   "file_extension": ".py",
   "mimetype": "text/x-python",
   "name": "python",
   "nbconvert_exporter": "python",
   "pygments_lexer": "ipython3",
   "version": "3.12.0"
  }
 },
 "nbformat": 4,
 "nbformat_minor": 2
}
